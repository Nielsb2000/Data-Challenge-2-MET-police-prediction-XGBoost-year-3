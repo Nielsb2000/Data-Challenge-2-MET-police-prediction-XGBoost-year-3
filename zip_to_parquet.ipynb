{
 "cells": [
  {
   "cell_type": "code",
   "execution_count": 2,
   "metadata": {},
   "outputs": [
    {
     "name": "stdout",
     "output_type": "stream",
     "text": [
      "['c:\\\\Users\\\\miche\\\\pycode\\\\uni\\\\JBG050-Group9\\\\data\\\\2017-03.zip', 'c:\\\\Users\\\\miche\\\\pycode\\\\uni\\\\JBG050-Group9\\\\data\\\\2020-03.zip', 'c:\\\\Users\\\\miche\\\\pycode\\\\uni\\\\JBG050-Group9\\\\data\\\\2023-03.zip']\n"
     ]
    }
   ],
   "source": [
    "# Extracts all files from zip files that are in Met area\n",
    "# Store the zip files in the data directory\n",
    "\n",
    "# Import libraries\n",
    "import pandas as pd\n",
    "import numpy as np\n",
    "import os\n",
    "import glob\n",
    "import zipfile\n",
    "import re\n",
    "\n",
    "# Set data directory\n",
    "data_dir = \"data\"\n",
    "\n",
    "# Set output directory\n",
    "output_dir = \"output\"\n",
    "\n",
    "# Set the path to the data directory\n",
    "data_path = os.path.join(os.getcwd(), data_dir)\n",
    "\n",
    "# Set the path to the output directory\n",
    "output_path = os.path.join(os.getcwd(), output_dir)\n",
    "\n",
    "# Create a list of zip files in the data directory\n",
    "zip_files = glob.glob(os.path.join(data_path, \"*.zip\"))\n",
    "\n",
    "# Create a list of csv files in the data directory\n",
    "csv_files = glob.glob(os.path.join(data_path, \"*.csv\"))\n"
   ]
  },
  {
   "cell_type": "code",
   "execution_count": 215,
   "metadata": {},
   "outputs": [],
   "source": [
    "import zipfile\n",
    "import os\n",
    "\n",
    "for zipp in zip_files:\n",
    "    with zipfile.ZipFile(zipp) as myzip:\n",
    "        for name in myzip.namelist():\n",
    "            # if \"metropolitan\" in name then extract the file to the output directory\n",
    "            if \"metropolitan\" in name:\n",
    "                myzip.extract(name, output_path)\n",
    "\n"
   ]
  },
  {
   "cell_type": "code",
   "execution_count": 14,
   "metadata": {},
   "outputs": [
    {
     "ename": "OSError",
     "evalue": "[WinError 145] De map is niet leeg: 'c:\\\\Users\\\\miche\\\\pycode\\\\uni\\\\JBG050-Group9\\\\output\\\\outcomes'",
     "output_type": "error",
     "traceback": [
      "\u001b[1;31m---------------------------------------------------------------------------\u001b[0m",
      "\u001b[1;31mOSError\u001b[0m                                   Traceback (most recent call last)",
      "Cell \u001b[1;32mIn[14], line 15\u001b[0m\n\u001b[0;32m     13\u001b[0m         os\u001b[39m.\u001b[39mrename(os\u001b[39m.\u001b[39mpath\u001b[39m.\u001b[39mjoin(output_path, folder, file), os\u001b[39m.\u001b[39mpath\u001b[39m.\u001b[39mjoin(output_path, \u001b[39m\"\u001b[39m\u001b[39mstop-and-search\u001b[39m\u001b[39m\"\u001b[39m, file))\n\u001b[0;32m     14\u001b[0m \u001b[39m# remove the folder\u001b[39;00m\n\u001b[1;32m---> 15\u001b[0m os\u001b[39m.\u001b[39mrmdir(os\u001b[39m.\u001b[39mpath\u001b[39m.\u001b[39mjoin(output_path, folder))\n",
      "\u001b[1;31mOSError\u001b[0m: [WinError 145] De map is niet leeg: 'c:\\\\Users\\\\miche\\\\pycode\\\\uni\\\\JBG050-Group9\\\\output\\\\outcomes'"
     ]
    }
   ],
   "source": [
    "# iterate ocer folder in the output directory\n",
    "for folder in os.listdir(output_path):\n",
    "    # iterate over files in the folder\n",
    "    for file in os.listdir(os.path.join(output_path, folder)):\n",
    "        # if the file is a csv file and file name contain \"street\" then add it to \"output/street\" folder\n",
    "        if file.endswith(\".csv\") and \"street\" in file:\n",
    "            os.rename(os.path.join(output_path, folder, file), os.path.join(output_path, \"street\", file))\n",
    "        # if the file is a csv file and file name contain \"outcomes\" then add it to \"output/outcomes\" folder\n",
    "        elif file.endswith(\".csv\") and \"outcomes\" in file:\n",
    "            os.rename(os.path.join(output_path, folder, file), os.path.join(output_path, \"outcomes\", file))\n",
    "        # if the file is a csv file and file name contain \"stop-and-search\" then add it to \"output/stop-and-search\" folder\n",
    "        elif file.endswith(\".csv\") and \"stop-and-search\" in file:\n",
    "            os.rename(os.path.join(output_path, folder, file), os.path.join(output_path, \"stop-and-search\", file))\n",
    "    # remove the folder\n",
    "    os.rmdir(os.path.join(output_path, folder))\n"
   ]
  },
  {
   "cell_type": "code",
   "execution_count": 23,
   "metadata": {},
   "outputs": [],
   "source": [
    "df = pd.DataFrame()\n",
    "# concatenate all the csv files in the \"output/street\" folder into one dataframe\n",
    "for file in os.listdir(os.path.join(output_path, \"street\")):\n",
    "    # open csv as dataframe\n",
    "    df_temp = pd.read_csv(os.path.join(output_path, \"street\", file))\n",
    "    # concatenate the dataframe to the main dataframe\n",
    "    df = pd.concat([df, df_temp])"
   ]
  },
  {
   "cell_type": "code",
   "execution_count": 26,
   "metadata": {},
   "outputs": [],
   "source": [
    "# store the dataframe as a parquet file\n",
    "df.to_parquet(os.path.join(output_path, \"street\", \"street.parquet\"))"
   ]
  }
 ],
 "metadata": {
  "kernelspec": {
   "display_name": "Python 3",
   "language": "python",
   "name": "python3"
  },
  "language_info": {
   "codemirror_mode": {
    "name": "ipython",
    "version": 3
   },
   "file_extension": ".py",
   "mimetype": "text/x-python",
   "name": "python",
   "nbconvert_exporter": "python",
   "pygments_lexer": "ipython3",
   "version": "3.11.1"
  },
  "orig_nbformat": 4
 },
 "nbformat": 4,
 "nbformat_minor": 2
}
